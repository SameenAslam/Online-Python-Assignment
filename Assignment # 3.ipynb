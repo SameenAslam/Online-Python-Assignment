{
 "cells": [
  {
   "cell_type": "code",
   "execution_count": 2,
   "id": "55fe48a5",
   "metadata": {},
   "outputs": [
    {
     "name": "stdout",
     "output_type": "stream",
     "text": [
      "Enter marks of the first subject: 98\n",
      "Enter marks of the second subject: 74\n",
      "Enter marks of the third subject: 83\n",
      "Enter marks of the fourth subject: 64\n",
      "Enter marks of the fifth subject: 86\n",
      "Grade: C\n"
     ]
    }
   ],
   "source": [
    "\"\"\"7. Write a program which takes 5 inputs from user for different subject’s marks, total it\n",
    "and generate mark sheet using grades ?\"\"\"\n",
    "\n",
    "sub1=int(input(\"Enter marks of the first subject: \"))\n",
    "sub2=int(input(\"Enter marks of the second subject: \"))\n",
    "sub3=int(input(\"Enter marks of the third subject: \"))\n",
    "sub4=int(input(\"Enter marks of the fourth subject: \"))\n",
    "sub5=int(input(\"Enter marks of the fifth subject: \"))\n",
    "avg=(sub1+sub2+sub3+sub4+sub4)/5\n",
    "if(avg>=90):\n",
    "    print(\"Grade: A\")\n",
    "elif(avg>=80 and avg<90):\n",
    "    print(\"Grade: B\")\n",
    "elif(avg>=70 and avg<80):\n",
    "    print(\"Grade: C\")\n",
    "elif(avg>=60 and avg<70):\n",
    "    print(\"Grade: D\")\n",
    "else:\n",
    "    print(\"Grade: F\")"
   ]
  },
  {
   "cell_type": "code",
   "execution_count": 3,
   "id": "7e61370e",
   "metadata": {},
   "outputs": [
    {
     "name": "stdout",
     "output_type": "stream",
     "text": [
      "Enter a number: 4\n",
      "This is an even number.\n"
     ]
    }
   ],
   "source": [
    "\"\"\"8. Write a program which take input from user and identify that the given number is even\n",
    "or odd?\"\"\"\n",
    "\n",
    "num = int(input(\"Enter a number: \"))\n",
    "mod = num % 2\n",
    "if mod > 0:\n",
    "    print(\"This is an odd number.\")\n",
    "else:\n",
    "    print(\"This is an even number.\")"
   ]
  },
  {
   "cell_type": "code",
   "execution_count": 4,
   "id": "c5bb7a49",
   "metadata": {},
   "outputs": [
    {
     "name": "stdout",
     "output_type": "stream",
     "text": [
      "The lenght of the list is =  5\n"
     ]
    }
   ],
   "source": [
    "# 9. Write a program which print the length of the list?\n",
    "ListName = [\"Hello\", \"Sameen\", 1, 2, 3]\n",
    "print (\"The lenght of the list is = \", len(ListName))"
   ]
  },
  {
   "cell_type": "code",
   "execution_count": 5,
   "id": "a8e2cd2a",
   "metadata": {},
   "outputs": [
    {
     "name": "stdout",
     "output_type": "stream",
     "text": [
      "23\n"
     ]
    }
   ],
   "source": [
    "# 10. Write a Python program to sum all the numeric items in a list?\n",
    "\n",
    "def sum_list(items):\n",
    "    sum_numbers = 0\n",
    "    for x in items:\n",
    "        sum_numbers += x\n",
    "    return sum_numbers\n",
    "print(sum_list([12,3,8]))\n"
   ]
  },
  {
   "cell_type": "code",
   "execution_count": 6,
   "id": "c01a4831",
   "metadata": {},
   "outputs": [
    {
     "name": "stdout",
     "output_type": "stream",
     "text": [
      "10\n"
     ]
    }
   ],
   "source": [
    "# 11. Write a Python program to get the largest number from a numeric list.\n",
    "\n",
    "def max_num_in_list( list ):\n",
    "    max = list[ 0 ]\n",
    "    for a in list:\n",
    "        if a > max:\n",
    "            max = a\n",
    "    return max\n",
    "print(max_num_in_list([10, 2, 8, 0]))"
   ]
  },
  {
   "cell_type": "code",
   "execution_count": 7,
   "id": "0f1c5cc7",
   "metadata": {},
   "outputs": [
    {
     "name": "stdout",
     "output_type": "stream",
     "text": [
      "[1, 1, 2, 3]\n"
     ]
    }
   ],
   "source": [
    "\"\"\"12. Take a list, say for example this one:\n",
    "a = [1, 1, 2, 3, 5, 8, 13, 21, 34, 55, 89]\n",
    "Write a program that prints out all the elements of the list that are less than 5.\"\"\"\n",
    "\n",
    "def elements_lessthan_five(l): \n",
    "    l1=[] \n",
    "    for i in l: \n",
    "        if i<5: \n",
    "            l1.append(i) \n",
    "             \n",
    "    return(l1) \n",
    "     \n",
    "print(elements_lessthan_five([1, 1, 2, 3, 5, 8, 13, 21, 34, 55, 89])) "
   ]
  },
  {
   "cell_type": "code",
   "execution_count": 8,
   "id": "336dccf8",
   "metadata": {},
   "outputs": [
    {
     "name": "stdout",
     "output_type": "stream",
     "text": [
      "Twinkle, twinkle, little star,\n",
      "\tHow I wonder what you are!\n",
      "\t\tUp above the world so high,\n",
      "\t\tLike a diamond in the sky.\n",
      "Twinkle, twinkle, little star,\n",
      "\tHow I wonder what you are!\n"
     ]
    }
   ],
   "source": [
    "\"\"\"1. Write a Python program to print the following string in a specific format (see the\n",
    "output).\n",
    "Twinkle, twinkle, little star,\n",
    "How I wonder what you are!\n",
    "Up above the world so high,\n",
    "Like a diamond in the sky.\n",
    "\n",
    "Twinkle, twinkle, little star,\n",
    "How I wonder what you are    \"\"\"\n",
    "\n",
    "print(\"Twinkle, twinkle, little star,\");\n",
    "print(\"\\tHow I wonder what you are!\");\n",
    "print(\"\\t\\tUp above the world so high,\");\n",
    "print(\"\\t\\tLike a diamond in the sky.\");\n",
    "print(\"Twinkle, twinkle, little star,\");\n",
    "print(\"\\tHow I wonder what you are!\");"
   ]
  },
  {
   "cell_type": "code",
   "execution_count": 9,
   "id": "317da4b1",
   "metadata": {},
   "outputs": [
    {
     "name": "stdout",
     "output_type": "stream",
     "text": [
      "Python version\n",
      "3.8.8 (default, Apr 13 2021, 15:08:03) [MSC v.1916 64 bit (AMD64)]\n"
     ]
    }
   ],
   "source": [
    "# 2. Write a Python program to get the Python version you are using\n",
    "import sys\n",
    "print(\"Python version\")\n",
    "print (sys.version)"
   ]
  },
  {
   "cell_type": "code",
   "execution_count": 10,
   "id": "24313839",
   "metadata": {},
   "outputs": [
    {
     "name": "stdout",
     "output_type": "stream",
     "text": [
      "Current date and time : \n",
      "15:33:40 24-10-2021\n"
     ]
    }
   ],
   "source": [
    "# 3. Write a Python program to display the current date and time.\n",
    "import datetime\n",
    "now = datetime.datetime.now()\n",
    "print (\"Current date and time : \")\n",
    "print (now.strftime(\"%H:%M:%S %d-%m-%Y\"))"
   ]
  },
  {
   "cell_type": "code",
   "execution_count": 11,
   "id": "ce9d3b84",
   "metadata": {},
   "outputs": [
    {
     "name": "stdout",
     "output_type": "stream",
     "text": [
      "Enter the radius of the circle : 10.2\n",
      "The area of the circle is: 326.85129967948205\n"
     ]
    }
   ],
   "source": [
    "\"\"\" 4. Write a Python program which accepts the radius of a circle from the user and compute\n",
    "the area.\"\"\"\n",
    "\n",
    "from math import pi\n",
    "rad = float(input (\"Enter the radius of the circle : \"))\n",
    "print (\"The area of the circle is: \" + str(pi * rad**2))\n"
   ]
  },
  {
   "cell_type": "code",
   "execution_count": 12,
   "id": "fffcbba7",
   "metadata": {},
   "outputs": [
    {
     "name": "stdout",
     "output_type": "stream",
     "text": [
      "Enter First Name : Sameen\n",
      "Enter Last Name : Aslam\n",
      "Aslam Sameen\n"
     ]
    }
   ],
   "source": [
    "\"\"\" 5. Write a Python program which accepts the user's first and last name and print them in\n",
    "reverse order with a space between them.\"\"\"\n",
    "\n",
    "frtname = input(\"Enter First Name : \")\n",
    "lstname = input(\"Enter Last Name : \")\n",
    "print (lstname + \" \" + frtname);"
   ]
  },
  {
   "cell_type": "code",
   "execution_count": 13,
   "id": "e80a3ff2",
   "metadata": {},
   "outputs": [
    {
     "name": "stdout",
     "output_type": "stream",
     "text": [
      "Enter first number: 6\n",
      "Enter second number: 5\n",
      "The addition of two numbers is: 11\n"
     ]
    }
   ],
   "source": [
    "#6. Write a python program which takes two inputs from user and print them addition.\n",
    "num1 = input(\"Enter first number: \");\n",
    "num2 = input(\"Enter second number: \");\n",
    "sum = int(num1) + int(num2)\n",
    "print(\"The addition of two numbers is: \" + str(sum));\n"
   ]
  },
  {
   "cell_type": "code",
   "execution_count": null,
   "id": "c964b9cf",
   "metadata": {},
   "outputs": [],
   "source": []
  }
 ],
 "metadata": {
  "kernelspec": {
   "display_name": "Python 3",
   "language": "python",
   "name": "python3"
  },
  "language_info": {
   "codemirror_mode": {
    "name": "ipython",
    "version": 3
   },
   "file_extension": ".py",
   "mimetype": "text/x-python",
   "name": "python",
   "nbconvert_exporter": "python",
   "pygments_lexer": "ipython3",
   "version": "3.8.8"
  }
 },
 "nbformat": 4,
 "nbformat_minor": 5
}
